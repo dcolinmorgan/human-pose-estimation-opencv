{
  "cells": [
    {
      "cell_type": "code",
      "execution_count": 1,
      "metadata": {
        "id": "5ZTkrAUhoIJE"
      },
      "outputs": [],
      "source": [
        "import os\n",
        "from dotenv import load_dotenv\n",
        "import replicate\n",
        "\n",
        "load_dotenv()\n",
        "\n",
        "REPLICATE_API_TOKEN = os.getenv(\"REPLICATE_API_TOKEN\")\n",
        "os.environ[\"REPLICATE_API_TOKEN\"] = REPLICATE_API_TOKEN"
      ]
    },
    {
      "cell_type": "code",
      "execution_count": 2,
      "metadata": {
        "id": "hJUWlSxcQMN7"
      },
      "outputs": [],
      "source": [
        "input = \"https://github.com/dcolinmorgan/modegen-ai/blob/master/Photo5623.jpg?raw=true\"\n",
        "fit = \"https://github.com/dcolinmorgan/modegen-ai/blob/master/fit_pose.jpg?raw=true\""
      ]
    },
    {
      "cell_type": "markdown",
      "metadata": {
        "id": "e9aVz_6IcyUp"
      },
      "source": [
        "## this is threads perspective -- check rabbit for queue system"
      ]
    },
    {
      "cell_type": "code",
      "execution_count": 10,
      "metadata": {
        "colab": {
          "base_uri": "https://localhost:8080/",
          "height": 382
        },
        "id": "Z9VNlqEtu-X5",
        "outputId": "cab0ab40-5b72-4fdd-bee8-3f9da32e0b77"
      },
      "outputs": [],
      "source": [
        "# sam = replicate.models.get(\"meta/sam-2\").versions.get(\"fe97b453a6455861e3bac769b441ca1f1086110da7466dbb65cf1eecfd60dc83\")\n",
        "cn = replicate.models.get(\"lucataco/sdxl-controlnet-openpose\").versions.get(\"d63e0b238b2d963d90348e2dad19830fbe372a7a43d90d234b2b63cae76d4397\")\n",
        "cn_lora = replicate.models.get(\"fofr/sdxl-multi-controlnet-lora\").versions.get(\"89eb212b3d1366a83e949c12a4b45dfe6b6b313b594cb8268e864931ac9ffb16\")\n",
        "esrgan = replicate.models.get(\"nightmareai/real-esrgan\").versions.get(\"42fed1c4974146d4d2414e2be2c5277c7fcf05fcc3a73abf41610695738c1d7b\")\n",
        "\n",
        "# mask = replicate.predictions.create(version=sam, input={\"image\": fit,\n",
        "#                                                 \"use_m2m\": True,\n",
        "#                                                 \"points_per_side\": 32,\n",
        "#                                                 \"pred_iou_thresh\": 0.88,\n",
        "#                                                 \"stability_score_thresh\": 0.5})\n",
        "# mask.wait()\n",
        "\n",
        "# image = replicate.predictions.create(version=cn, input={\"image\": fit}) #mask.output['individual_masks'][0]})\n",
        "# image.wait()\n",
        "\n",
        "out = replicate.predictions.create(version=cn_lora,\n",
        "    input={\n",
        "        \"image\": input,\n",
        "        \"width\": 768,\n",
        "        \"height\": 768,\n",
        "        \"prompt\": \"A photo of this woman in the red dress\",\n",
        "        \"refine\": \"no_refiner\",\n",
        "        \"scheduler\": \"K_EULER\",\n",
        "        \"lora_scale\": 0.8,\n",
        "        \"num_outputs\": 1,\n",
        "        \"controlnet_1\": \"none\",\n",
        "        \"controlnet_2\": \"none\",\n",
        "        \"controlnet_3\": \"none\",\n",
        "        \"lora_weights\": \"https://replicate.delivery/pbxt/hKhpVe6O7EwXNCiWORev3OEDRCoWeMlqZMLQDEvwDyHV3hvjA/trained_model.tar\",\n",
        "        \"guidance_scale\": 7.5,\n",
        "        \"apply_watermark\": False,\n",
        "        \"negative_prompt\": \"wheel, shoe\",\n",
        "        \"prompt_strength\": 0.8,\n",
        "        \"sizing_strategy\": \"width_height\",\n",
        "        \"controlnet_1_end\": 1,\n",
        "        \"controlnet_2_end\": 1,\n",
        "        \"controlnet_3_end\": 1,\n",
        "        \"controlnet_1_image\": image.output, \n",
        "        \"controlnet_1_start\": 0,\n",
        "        \"controlnet_2_start\": 0,\n",
        "        \"controlnet_3_start\": 0,\n",
        "        \"num_inference_steps\": 30,\n",
        "        \"controlnet_1_conditioning_scale\": 0.8,\n",
        "        \"controlnet_2_conditioning_scale\": 0.8,\n",
        "        \"controlnet_3_conditioning_scale\": 0.75\n",
        "    }\n",
        ")\n",
        "out.wait()\n",
        "\n",
        "upscaled_image = replicate.predictions.create(version=esrgan, input={\"image\": out.output[0]})\n",
        "upscaled_image.wait()"
      ]
    },
    {
      "cell_type": "code",
      "execution_count": 20,
      "metadata": {},
      "outputs": [
        {
          "data": {
            "text/plain": [
              "'https://replicate.delivery/pbxt/HaE9gBqf8qXek0SbLDEiQsKNj7rRG8Hyipv4w4Ka5KbT29QTA/output.png'"
            ]
          },
          "execution_count": 20,
          "metadata": {},
          "output_type": "execute_result"
        }
      ],
      "source": [
        "image.output"
      ]
    },
    {
      "cell_type": "code",
      "execution_count": 21,
      "metadata": {
        "id": "4yy0kwXWe3s2"
      },
      "outputs": [
        {
          "data": {
            "text/html": [
              "<img src=\"h\"/>"
            ],
            "text/plain": [
              "<IPython.core.display.Image object>"
            ]
          },
          "execution_count": 21,
          "metadata": {},
          "output_type": "execute_result"
        }
      ],
      "source": [
        "from IPython.display import Image\n",
        "Image(url=image.output[0])"
      ]
    },
    {
      "cell_type": "code",
      "execution_count": null,
      "metadata": {
        "id": "oJhxyM8NWdRZ"
      },
      "outputs": [],
      "source": [
        "from urllib.request import urlretrieve\n",
        "\n",
        "urlretrieve(upscaled_image.output[0], \"/tmp/out.png\")"
      ]
    },
    {
      "cell_type": "markdown",
      "metadata": {
        "id": "Ax6xbVZOpnaV"
      },
      "source": [
        "# Run a model\n",
        "You can run any public model on Replicate from your Python code. The following example runs [stability-ai/stable-diffusion](https://replicate.com/stability-ai/stable-diffusion):"
      ]
    },
    {
      "cell_type": "code",
      "execution_count": null,
      "metadata": {
        "id": "eQCcYU6_nXub"
      },
      "outputs": [],
      "source": [
        "import replicate\n",
        "\n",
        "output = replicate.run(\n",
        "  \"stability-ai/sdxl:39ed52f2a78e934b3ba6e2a89f5b1c712de7dfea535525255b1aa35c5565e08b\",\n",
        "  input={\"prompt\": \"an beagle on the beach, pointillism\"}\n",
        ")\n",
        "\n",
        "output"
      ]
    },
    {
      "cell_type": "code",
      "execution_count": null,
      "metadata": {
        "id": "l2sNBQg-pywR"
      },
      "outputs": [],
      "source": [
        "from IPython.display import Image\n",
        "Image(url=output[0])"
      ]
    },
    {
      "cell_type": "markdown",
      "metadata": {
        "id": "zUZBwKOYqozu"
      },
      "source": [
        "Some models receive images as inputs. To pass a file as an input, use a file handle or URL:"
      ]
    },
    {
      "cell_type": "code",
      "execution_count": null,
      "metadata": {
        "id": "NaQ3Jytoqyk5"
      },
      "outputs": [],
      "source": [
        "# image = open(\"mystery.jpg\", \"rb\")\n",
        "# or...\n",
        "# image = \"https://example.com/mystery.jpg\"\n",
        "#\n",
        "# for this example, let's use the URL from the previous prediction:\n",
        "image = output[0]\n",
        "\n",
        "replicate.run(\n",
        "  \"andreasjansson/blip-2:4b32258c42e9efd4288bb9910bc532a69727f9acd26aa08e175713a0a857a608\",\n",
        "  input={\"image\": output[0], \"prompt\": \"what's in this picture?\"}\n",
        ")"
      ]
    },
    {
      "cell_type": "markdown",
      "metadata": {
        "id": "xLvskaxwtswn"
      },
      "source": [
        "# Run a model in the background\n",
        "You can start a model and run it in the background:"
      ]
    },
    {
      "cell_type": "code",
      "execution_count": null,
      "metadata": {
        "id": "v0SlZt3Otx6Q"
      },
      "outputs": [],
      "source": [
        "model = replicate.models.get(\"meta/musicgen\")\n",
        "version = model.versions.get(\"b05b1dff1d8c6dc63d14b0cdb42135378dcb87f6373b0d3d341ede46e59e2b38\")\n",
        "\n",
        "prediction = replicate.predictions.create(\n",
        "    version=version,\n",
        "    input={\"prompt\":\"Edo25 major g melodies that sound triumphant and cinematic. Leading up to a crescendo that resolves in a 9th harmonic\"})"
      ]
    },
    {
      "cell_type": "code",
      "execution_count": null,
      "metadata": {
        "id": "IIA6_2auuFe2"
      },
      "outputs": [],
      "source": [
        "prediction"
      ]
    },
    {
      "cell_type": "code",
      "execution_count": null,
      "metadata": {
        "id": "oJ5Mll-JuPXl"
      },
      "outputs": [],
      "source": [
        "prediction.status"
      ]
    },
    {
      "cell_type": "code",
      "execution_count": null,
      "metadata": {
        "id": "owP4pydEuQ-A"
      },
      "outputs": [],
      "source": [
        "dict(prediction).keys()"
      ]
    },
    {
      "cell_type": "code",
      "execution_count": null,
      "metadata": {
        "id": "q6rKX8e7uXRd"
      },
      "outputs": [],
      "source": [
        "prediction.wait()\n",
        "prediction.reload()"
      ]
    },
    {
      "cell_type": "code",
      "execution_count": null,
      "metadata": {
        "id": "eLma8KgJuZ9t"
      },
      "outputs": [],
      "source": [
        "prediction.status"
      ]
    },
    {
      "cell_type": "code",
      "execution_count": null,
      "metadata": {
        "id": "DIdTadrBujYZ"
      },
      "outputs": [],
      "source": [
        "import IPython\n",
        "IPython.display.Audio(prediction.output)"
      ]
    },
    {
      "cell_type": "markdown",
      "metadata": {
        "id": "X7ZZHjNrunwr"
      },
      "source": [
        "# Run a model in the background and get a webhook"
      ]
    },
    {
      "cell_type": "markdown",
      "metadata": {
        "id": "Y264GRLRuyW2"
      },
      "source": [
        "You can run a model and get a webhook when it completes, instead of waiting for it to finish.\n",
        "\n",
        "If you're working locally, we'd recommend using [ngrok](https://ngrok.com/download) for debugging webhooks. It allows you to tunnel your localhost to a public domain."
      ]
    },
    {
      "cell_type": "code",
      "execution_count": null,
      "metadata": {
        "id": "G7iH_9-Lum69"
      },
      "outputs": [],
      "source": [
        "model = replicate.models.get(\"jd7h/photomaker\")\n",
        "version = model.versions.get(\"79b21a43649e0d08a7cbf9b553420047456de4492efb1a7c73d500c1c8812fc6\")\n",
        "prediction = replicate.predictions.create(\n",
        "    version=version,\n",
        "    input={\n",
        "        \"seed\": 1143488585,\n",
        "        \"prompt\": \"A photo of a scientist winning the Nobel prize img\",\n",
        "        \"num_steps\": 50,\n",
        "        \"style_name\": \"Photographic (Default)\",\n",
        "        \"input_image\": \"https://replicate.delivery/pbxt/KF73Yow3WJw7ebPRq1tPohZXN0bjoAjbNcXiJzeineGGAv1A/newton_0.jpg\",\n",
        "        \"num_outputs\": 1,\n",
        "        \"guidance_scale\": 5,\n",
        "        \"negative_prompt\": \"nsfw, lowres, bad anatomy, bad hands, text, error, missing fingers, extra digit, fewer digits, cropped, worst quality, low quality, normal quality, jpeg artifacts, signature, watermark, username, blurry\",\n",
        "        \"style_strength_ratio\": 20\n",
        "    },\n",
        "    webhook=\"https://example.com/your-webhook\",\n",
        "    webhook_events_filter=[\"completed\"]\n",
        ")"
      ]
    },
    {
      "cell_type": "markdown",
      "metadata": {
        "id": "WM47DByLrk5l"
      },
      "source": [
        "# Get streaming output from a running model\n",
        "Some models stream output as the model is running. They will return an iterator, and you can iterate over that output:"
      ]
    },
    {
      "cell_type": "code",
      "execution_count": null,
      "metadata": {
        "id": "hkjJKac8rlS2"
      },
      "outputs": [],
      "source": [
        "iterator = replicate.run(\n",
        "  \"mistralai/mixtral-8x7b-instruct-v0.1\",\n",
        "  input={\"prompt\": \"Who was Dolly the sheep?\"},\n",
        ")\n",
        "for text in iterator:\n",
        "      print(text)"
      ]
    },
    {
      "cell_type": "markdown",
      "metadata": {
        "id": "K7kZwHzLwWoM"
      },
      "source": [
        "# Cancel a prediction\n",
        "You can cancel a running prediction:"
      ]
    },
    {
      "cell_type": "code",
      "execution_count": null,
      "metadata": {
        "id": "YryIQVJ7wWHt"
      },
      "outputs": [],
      "source": [
        "model = replicate.models.get(\"stability-ai/stable-video-diffusion\")\n",
        "version = model.versions.get(\"3f0457e4619daac51203dedb472816fd4af51f3149fa7a9e0b5ffcf1b8172438\")\n",
        "\n",
        "prediction = replicate.predictions.create(\n",
        "    version=version,\n",
        "    input={\n",
        "      \"cond_aug\": 0.02,\n",
        "      \"decoding_t\": 7,\n",
        "      \"input_image\": \"https://replicate.delivery/pbxt/JvLi9smWKKDfQpylBYosqQRfPKZPntuAziesp0VuPjidq61n/rocket.png\",\n",
        "      \"video_length\": \"14_frames_with_svd\",\n",
        "      \"sizing_strategy\": \"maintain_aspect_ratio\",\n",
        "      \"motion_bucket_id\": 127,\n",
        "      \"frames_per_second\": 6\n",
        "    })"
      ]
    },
    {
      "cell_type": "code",
      "execution_count": null,
      "metadata": {
        "id": "zwVtyEVLw4o_"
      },
      "outputs": [],
      "source": [
        "prediction.status"
      ]
    },
    {
      "cell_type": "code",
      "execution_count": null,
      "metadata": {
        "id": "BME9JCeNw5qe"
      },
      "outputs": [],
      "source": [
        "prediction.cancel()"
      ]
    },
    {
      "cell_type": "code",
      "execution_count": null,
      "metadata": {
        "id": "inuDz8Dtw6ox"
      },
      "outputs": [],
      "source": [
        "prediction.reload()"
      ]
    },
    {
      "cell_type": "code",
      "execution_count": null,
      "metadata": {
        "id": "NRZbHkXNw8jJ"
      },
      "outputs": [],
      "source": [
        "prediction.status"
      ]
    },
    {
      "cell_type": "code",
      "execution_count": null,
      "metadata": {
        "id": "5PV0EnN4xFf5"
      },
      "outputs": [],
      "source": [
        "predictions = replicate.predictions.list()\n",
        "\n",
        "[p.status for p in predictions[:10]]"
      ]
    },
    {
      "cell_type": "markdown",
      "metadata": {
        "id": "5cuMDPg1xjQZ"
      },
      "source": [
        "# Load output files\n",
        "Output files are returned as HTTPS URLs. You can load an output file as a buffer:"
      ]
    },
    {
      "cell_type": "code",
      "execution_count": null,
      "metadata": {
        "id": "CTcA8OGYxmCe"
      },
      "outputs": [],
      "source": [
        "from urllib.request import urlretrieve\n",
        "\n",
        "model = replicate.models.get(\"stability-ai/stable-video-diffusion\")\n",
        "version = model.versions.get(\"3f0457e4619daac51203dedb472816fd4af51f3149fa7a9e0b5ffcf1b8172438\")\n",
        "\n",
        "prediction = replicate.predictions.create(\n",
        "    version=version,\n",
        "    input={\n",
        "      \"cond_aug\": 0.02,\n",
        "      \"decoding_t\": 7,\n",
        "      \"input_image\": \"https://replicate.delivery/pbxt/JvLi9smWKKDfQpylBYosqQRfPKZPntuAziesp0VuPjidq61n/rocket.png\",\n",
        "      \"video_length\": \"14_frames_with_svd\",\n",
        "      \"sizing_strategy\": \"maintain_aspect_ratio\",\n",
        "      \"motion_bucket_id\": 127,\n",
        "      \"frames_per_second\": 6\n",
        "    })\n",
        "prediction.wait()\n",
        "\n",
        "urlretrieve(prediction.output, \"/tmp/out.mp4\")"
      ]
    },
    {
      "cell_type": "code",
      "execution_count": null,
      "metadata": {
        "id": "blSrxhprgTrN"
      },
      "outputs": [],
      "source": [
        "from IPython.display import Video\n",
        "\n",
        "Video(prediction.output)"
      ]
    },
    {
      "cell_type": "markdown",
      "metadata": {
        "id": "vz6FASGXsefP"
      },
      "source": [
        "# Next steps\n",
        "\n",
        "- Read the [full Python client documentation on GitHub](https://github.com/replicate/replicate-python#readme).\n",
        "\n",
        "- Explore our collection of hosted [models](https://replicate.com/explore)\n",
        "\n",
        "- Note that you can also run models with the raw HTTP API. Refer to the [HTTP API reference](https://replicate.com/docs/reference/http) for more details."
      ]
    },
    {
      "cell_type": "code",
      "execution_count": null,
      "metadata": {
        "id": "yzRipDfdyu_D"
      },
      "outputs": [],
      "source": []
    }
  ],
  "metadata": {
    "accelerator": "GPU",
    "colab": {
      "gpuType": "T4",
      "provenance": []
    },
    "kernelspec": {
      "display_name": "Python 3",
      "name": "python3"
    },
    "language_info": {
      "codemirror_mode": {
        "name": "ipython",
        "version": 3
      },
      "file_extension": ".py",
      "mimetype": "text/x-python",
      "name": "python",
      "nbconvert_exporter": "python",
      "pygments_lexer": "ipython3",
      "version": "3.12.4"
    }
  },
  "nbformat": 4,
  "nbformat_minor": 0
}
